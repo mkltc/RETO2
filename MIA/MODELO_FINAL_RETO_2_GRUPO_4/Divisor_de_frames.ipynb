{
 "cells": [
  {
   "cell_type": "code",
   "execution_count": 1,
   "metadata": {},
   "outputs": [
    {
     "name": "stdout",
     "output_type": "stream",
     "text": [
      "Fotogramas guardados en carpeta_fotogramas\\papel_neutral\n"
     ]
    }
   ],
   "source": [
    "import cv2\n",
    "import os\n",
    "\n",
    "def guardar_fotogramas_por_segundo(video_path, carpeta_destino_base, intervalo_segundos=0.25):\n",
    "    # Obtener el nombre del archivo del video sin la extensión\n",
    "    nombre_video = os.path.splitext(os.path.basename(video_path))[0]\n",
    "    \n",
    "    # Crear la carpeta para este video usando su nombre\n",
    "    carpeta_destino = os.path.join(carpeta_destino_base, nombre_video)\n",
    "    \n",
    "    # Crear la carpeta si no existe\n",
    "    if not os.path.exists(carpeta_destino):\n",
    "        os.makedirs(carpeta_destino)\n",
    "\n",
    "    # Abrir el video\n",
    "    video = cv2.VideoCapture(video_path)\n",
    "    \n",
    "    # Obtener la tasa de fotogramas por segundo (FPS)\n",
    "    fps = video.get(cv2.CAP_PROP_FPS)\n",
    "    \n",
    "    # Calcular el número de fotogramas a saltar para el intervalo deseado\n",
    "    salto_fotogramas = int(fps * intervalo_segundos)\n",
    "    \n",
    "    # Inicializar el contador de fotogramas\n",
    "    fotograma_idx = 0\n",
    "    nombre_fotograma = 0\n",
    "    \n",
    "    while True:\n",
    "        # Ir al fotograma deseado\n",
    "        video.set(cv2.CAP_PROP_POS_FRAMES, fotograma_idx)\n",
    "        \n",
    "        # Leer el fotograma\n",
    "        ret, fotograma = video.read()\n",
    "        \n",
    "        # Verificar si se ha leído correctamente el fotograma\n",
    "        if not ret:\n",
    "            break\n",
    "        \n",
    "        # Guardar el fotograma como archivo de imagen\n",
    "        nombre_fotograma_str = f\"{nombre_fotograma:03d}.png\"  # Nombre con formato de 3 dígitos (001.png, 002.png, etc.)\n",
    "        ruta_fotograma = os.path.join(carpeta_destino, nombre_fotograma_str)\n",
    "        cv2.imwrite(ruta_fotograma, fotograma)  # Guardar el fotograma en la carpeta\n",
    "\n",
    "        # Aumentar el índice de fotograma para el próximo fotograma basado en el intervalo\n",
    "        fotograma_idx += salto_fotogramas\n",
    "        nombre_fotograma += 1\n",
    "    \n",
    "    # Cerrar el video\n",
    "    video.release()\n",
    "    print(f\"Fotogramas guardados en {carpeta_destino}\")\n",
    "\n",
    "# Ruta del video negativo\n",
    "# video_path = 'VIDEOS/tijera_negativa.mp4'\n",
    "\n",
    "# Ruta del video\n",
    "video_path = 'VIDEOS/papel_neutral.mp4'\n",
    "\n",
    "# Ruta del video\n",
    "# video_path = 'VIDEOS/roca_positiva.mp4'\n",
    "\n",
    "# Carpeta base donde se crearán las subcarpetas con el nombre del video\n",
    "carpeta_destino_base = 'carpeta_fotogramas'\n",
    "\n",
    "# Guardar fotogramas cada 0.1 segundos\n",
    "guardar_fotogramas_por_segundo(video_path, carpeta_destino_base, intervalo_segundos=0.1)"
   ]
  }
 ],
 "metadata": {
  "kernelspec": {
   "display_name": "Python 3",
   "language": "python",
   "name": "python3"
  },
  "language_info": {
   "codemirror_mode": {
    "name": "ipython",
    "version": 3
   },
   "file_extension": ".py",
   "mimetype": "text/x-python",
   "name": "python",
   "nbconvert_exporter": "python",
   "pygments_lexer": "ipython3",
   "version": "3.12.6"
  }
 },
 "nbformat": 4,
 "nbformat_minor": 2
}
