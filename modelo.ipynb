{
 "cells": [
  {
   "cell_type": "markdown",
   "metadata": {},
   "source": [
    "## Cargar los datos \n",
    "### DataFrame:\n"
   ]
  },
  {
   "cell_type": "code",
   "execution_count": 72,
   "metadata": {},
   "outputs": [],
   "source": [
    "# Importamos las librerías necesarias.\n",
    "import pandas as pd\n",
    "from sklearn.ensemble import RandomForestRegressor\n",
    "from sklearn.metrics import mean_absolute_error\n",
    "from sklearn.model_selection import train_test_split\n",
    "\n",
    "# Cargamos los datos.\n",
    "valoraciones = pd.read_json('data/web_reviews.json')"
   ]
  },
  {
   "cell_type": "markdown",
   "metadata": {},
   "source": [
    "# Función .info()\n",
    "## El resultado de `valoraciones.info()` es que contiene un total de **10,261 filas** y **9 columnas**.\n",
    "**Columnas:**\n",
    "- **reviewerID**: ID del revisor, tipo `object` (cadena de texto).\n",
    "- **asin**: ID del producto, tipo `object`.\n",
    "- **reviewerName**: Nombre del revisor, tipo `object`.\n",
    "- **helpful**: Información sobre la utilidad de la reseña (como una lista que muestra votos útiles), tipo `object`.\n",
    "- **reviewText**: Texto de la reseña, tipo `object`.\n",
    "- **overall**: Calificación general del producto (1 a 5), tipo `int64`.\n",
    "- **summary**: Resumen breve de la reseña, tipo `object`.\n",
    "- **unixReviewTime**: Fecha de la reseña en formato de tiempo Unix, tipo `int64`.\n",
    "- **reviewTime**: Fecha de la reseña en formato de texto, tipo `object`.\n",
    "\n",
    "### Información adicional:\n",
    "- **Tipos de datos**: La mayoría de las columnas son de tipo `object` (cadenas de texto), excepto `overall` y `unixReviewTime`, que son enteros (`int64`).\n",
    "- **Uso de memoria**: El DataFrame ocupa aproximadamente **721.6 KB** en memoria.\n"
   ]
  },
  {
   "cell_type": "code",
   "execution_count": 73,
   "metadata": {},
   "outputs": [
    {
     "name": "stdout",
     "output_type": "stream",
     "text": [
      "<class 'pandas.core.frame.DataFrame'>\n",
      "RangeIndex: 10261 entries, 0 to 10260\n",
      "Data columns (total 10 columns):\n",
      " #   Column          Non-Null Count  Dtype \n",
      "---  ------          --------------  ----- \n",
      " 0   reviewerID      10261 non-null  object\n",
      " 1   asin            10261 non-null  object\n",
      " 2   reviewerName    10261 non-null  object\n",
      " 3   helpful         10261 non-null  object\n",
      " 4   reviewText      10261 non-null  object\n",
      " 5   overall         10261 non-null  int64 \n",
      " 6   summary         10261 non-null  object\n",
      " 7   unixReviewTime  10261 non-null  int64 \n",
      " 8   reviewTime      10261 non-null  object\n",
      " 9   instrumentType  10261 non-null  object\n",
      "dtypes: int64(2), object(8)\n",
      "memory usage: 801.8+ KB\n"
     ]
    }
   ],
   "source": [
    "valoraciones.info()"
   ]
  },
  {
   "cell_type": "markdown",
   "metadata": {},
   "source": [
    "## .describe\n",
    "El resultado de `valoraciones.describe()` proporciona un resumen estadístico de las columnas **numéricas** en el DataFrame. Ayudan a entender la distribución y la tendencia de las calificaciones junto con los tiempos de revisión:\n",
    "\n",
    "### Interpretación:\n",
    "- **overall**: \n",
    "  - Representa la calificación general del producto.\n",
    "  - La media es de **4.59**, lo cual indica que la mayoría de las valoraciones son altas.\n",
    "  - El valor mínimo es **1** y el máximo es **10**.\n",
    "  \n",
    "- **unixReviewTime**: \n",
    "  - Representa la fecha de la reseña en formato Unix.\n",
    "  - La media es **1.356565e+09**, y el rango va desde **1.204819e+09** hasta **1.405382e+09**."
   ]
  },
  {
   "cell_type": "code",
   "execution_count": 74,
   "metadata": {},
   "outputs": [
    {
     "data": {
      "text/html": [
       "<div>\n",
       "<style scoped>\n",
       "    .dataframe tbody tr th:only-of-type {\n",
       "        vertical-align: middle;\n",
       "    }\n",
       "\n",
       "    .dataframe tbody tr th {\n",
       "        vertical-align: top;\n",
       "    }\n",
       "\n",
       "    .dataframe thead th {\n",
       "        text-align: right;\n",
       "    }\n",
       "</style>\n",
       "<table border=\"1\" class=\"dataframe\">\n",
       "  <thead>\n",
       "    <tr style=\"text-align: right;\">\n",
       "      <th></th>\n",
       "      <th>overall</th>\n",
       "      <th>unixReviewTime</th>\n",
       "    </tr>\n",
       "  </thead>\n",
       "  <tbody>\n",
       "    <tr>\n",
       "      <th>count</th>\n",
       "      <td>10261.000000</td>\n",
       "      <td>1.026100e+04</td>\n",
       "    </tr>\n",
       "    <tr>\n",
       "      <th>mean</th>\n",
       "      <td>4.499659</td>\n",
       "      <td>1.360606e+09</td>\n",
       "    </tr>\n",
       "    <tr>\n",
       "      <th>std</th>\n",
       "      <td>1.415221</td>\n",
       "      <td>3.779735e+07</td>\n",
       "    </tr>\n",
       "    <tr>\n",
       "      <th>min</th>\n",
       "      <td>0.000000</td>\n",
       "      <td>1.095466e+09</td>\n",
       "    </tr>\n",
       "    <tr>\n",
       "      <th>25%</th>\n",
       "      <td>4.000000</td>\n",
       "      <td>1.343434e+09</td>\n",
       "    </tr>\n",
       "    <tr>\n",
       "      <th>50%</th>\n",
       "      <td>5.000000</td>\n",
       "      <td>1.368490e+09</td>\n",
       "    </tr>\n",
       "    <tr>\n",
       "      <th>75%</th>\n",
       "      <td>5.000000</td>\n",
       "      <td>1.388966e+09</td>\n",
       "    </tr>\n",
       "    <tr>\n",
       "      <th>max</th>\n",
       "      <td>10.000000</td>\n",
       "      <td>1.405987e+09</td>\n",
       "    </tr>\n",
       "  </tbody>\n",
       "</table>\n",
       "</div>"
      ],
      "text/plain": [
       "            overall  unixReviewTime\n",
       "count  10261.000000    1.026100e+04\n",
       "mean       4.499659    1.360606e+09\n",
       "std        1.415221    3.779735e+07\n",
       "min        0.000000    1.095466e+09\n",
       "25%        4.000000    1.343434e+09\n",
       "50%        5.000000    1.368490e+09\n",
       "75%        5.000000    1.388966e+09\n",
       "max       10.000000    1.405987e+09"
      ]
     },
     "execution_count": 74,
     "metadata": {},
     "output_type": "execute_result"
    }
   ],
   "source": [
    "valoraciones.describe()"
   ]
  },
  {
   "cell_type": "markdown",
   "metadata": {},
   "source": [
    "## Entrenamos un modelo "
   ]
  },
  {
   "cell_type": "code",
   "execution_count": 75,
   "metadata": {},
   "outputs": [
    {
     "name": "stdout",
     "output_type": "stream",
     "text": [
      "\n",
      "Importancia de las características:\n",
      "             Feature  Importance\n",
      "0     unixReviewTime    0.396686\n",
      "1  reviewText_length    0.385285\n",
      "2     summary_length    0.218029\n"
     ]
    },
    {
     "data": {
      "image/png": "[encoded data removed]",
      "text/plain": [
       "<Figure size 1000x800 with 1 Axes>"
      ]
     },
     "metadata": {},
     "output_type": "display_data"
    },
    {
     "name": "stdout",
     "output_type": "stream",
     "text": [
      "\n",
      "Precisión del modelo con características seleccionadas: 0.60\n",
      "Precisión de Random Forest: 0.60\n",
      "Precisión de Gradient Boosting: 0.63\n",
      "Precisión de Decision Tree: 0.45\n",
      "Precisión de Logistic Regression: 0.64\n"
     ]
    }
   ],
   "source": [
    "# Importamos las librerías necesarias\n",
    "import pandas as pd\n",
    "from sklearn.model_selection import train_test_split\n",
    "from sklearn.preprocessing import LabelEncoder\n",
    "import matplotlib.pyplot as plt\n",
    "from sklearn.ensemble import RandomForestClassifier, GradientBoostingClassifier\n",
    "from sklearn.tree import DecisionTreeClassifier\n",
    "from sklearn.linear_model import LogisticRegression\n",
    "from sklearn.model_selection import train_test_split, cross_val_score \n",
    "from sklearn.metrics import accuracy_score\n",
    "\n",
    "# Ajustamos la columna 'helpful' para obtener el número de votos útiles\n",
    "valoraciones['helpful_votes'] = valoraciones['helpful'].apply(lambda x: x[0] if isinstance(x, list) and len(x) > 0 else 0)\n",
    "\n",
    "# Convertimos todas las columnas de tipo object a valores numéricos\n",
    "for column in valoraciones.select_dtypes(include=['object']).columns:\n",
    "    if column == 'reviewText':\n",
    "        # Nueva característica con la longitud del texto\n",
    "        valoraciones['reviewText_length'] = valoraciones['reviewText'].apply(lambda x: len(x) if isinstance(x, str) else 0)\n",
    "    elif column == 'summary':\n",
    "        # Nueva característica con la longitud del resumen\n",
    "        valoraciones['summary_length'] = valoraciones['summary'].apply(lambda x: len(x) if isinstance(x, str) else 0)\n",
    "    else:\n",
    "        # Eliminamos columnas irrelevantes\n",
    "        valoraciones = valoraciones.drop(columns=[column])\n",
    "\n",
    "# Seleccionamos todas las características menos la columna objetivo 'overall'\n",
    "X = valoraciones[['unixReviewTime', 'reviewText_length', 'summary_length']]\n",
    "y = valoraciones['overall']\n",
    "\n",
    "# Dividimos los datos en entrenamiento y prueba\n",
    "X_train, X_test, y_train, y_test = train_test_split(X, y, test_size=0.2, random_state=1)\n",
    "\n",
    "# Entrenamos un modelo de Random Forest para calcular la importancia de las características\n",
    "modelo_rf = RandomForestClassifier(random_state=1)\n",
    "modelo_rf.fit(X_train, y_train)\n",
    "\n",
    "# Obtenemos la importancia de las características\n",
    "importancias = modelo_rf.feature_importances_\n",
    "features = X.columns\n",
    "\n",
    "# Creamos un DataFrame para visualizar la importancia de cada característica\n",
    "importantesDf = pd.DataFrame({'Feature': features, 'Importance': importancias})\n",
    "importantesDf = importantesDf.sort_values(by='Importance', ascending=False)\n",
    "\n",
    "# Mostrar DataFrame de importancias\n",
    "print(\"\\nImportancia de las características:\")\n",
    "print(importantesDf)\n",
    "\n",
    "# Visualizamos las importancias de características\n",
    "plt.figure(figsize=(10, 8))\n",
    "plt.barh(importantesDf['Feature'], importantesDf['Importance'], color='skyblue')\n",
    "plt.xlabel('Importancia')\n",
    "plt.title('Importancia de las Características en el Modelo Random Forest')\n",
    "plt.gca().invert_yaxis()\n",
    "plt.show()\n",
    "\n",
    "# Filtramos las características menos relevantes según un umbral de importancia\n",
    "umbral_importancia = 0.01  # Ajusta este valor según los resultados\n",
    "mejores_features = importantesDf[importantesDf['Importance'] > umbral_importancia]['Feature'].tolist()\n",
    "\n",
    "# Creamos el conjunto de datos final solo con las características más relevantes\n",
    "X_train_mejores = X_train[mejores_features]\n",
    "X_test_mejores = X_test[mejores_features]\n",
    "\n",
    "# Entrenamos y evaluamos el modelo con las características seleccionadas\n",
    "modelo_final = RandomForestClassifier(random_state=1)\n",
    "modelo_final.fit(X_train_mejores, y_train)\n",
    "predicciones_final = modelo_final.predict(X_test_mejores)\n",
    "accuracy_final = modelo_final.score(X_test_mejores, y_test)\n",
    "print(f'\\nPrecisión del modelo con características seleccionadas: {accuracy_final:.2f}')\n",
    "\n",
    "# Dividimos los datos en entrenamiento y prueba\n",
    "X_train, X_test, y_train, y_test = train_test_split(X, y, test_size=0.2, random_state=1)\n",
    "\n",
    "# Definimos los modelos a comparar\n",
    "modelos = {\n",
    "    'Random Forest': RandomForestClassifier(random_state=1),\n",
    "    'Gradient Boosting': GradientBoostingClassifier(random_state=1),\n",
    "    'Decision Tree': DecisionTreeClassifier(random_state=1),\n",
    "    'Logistic Regression': LogisticRegression(max_iter=200, random_state=1)\n",
    "}\n",
    "\n",
    "# Evaluamos cada modelo\n",
    "for nombre, modelo in modelos.items():\n",
    "    modelo.fit(X_train, y_train)\n",
    "    predicciones = modelo.predict(X_test)\n",
    "    accuracy = accuracy_score(y_test, predicciones)\n",
    "    print(f'Precisión de {nombre}: {accuracy:.2f}')"
   ]
  },
  {
   "cell_type": "markdown",
   "metadata": {},
   "source": [
    "## Buscar missing values"
   ]
  },
  {
   "cell_type": "code",
   "execution_count": 76,
   "metadata": {},
   "outputs": [
    {
     "name": "stdout",
     "output_type": "stream",
     "text": [
      "Valores faltantes por columna:\n",
      "Series([], dtype: int64)\n"
     ]
    }
   ],
   "source": [
    "# Defino una función que me ayude a comparar las diferentes estrategias.\n",
    "def score_dataset(X_train, X_valid, y_train, y_valid):\n",
    "    ''' \n",
    "    Función para comparar estrategias y devolver el MAE \n",
    "    '''\n",
    "    model = RandomForestRegressor(n_estimators=73, random_state=1)\n",
    "    model.fit(X_train, y_train)\n",
    "    preds = model.predict(X_valid)\n",
    "    return mean_absolute_error(y_valid, preds)\n",
    "\n",
    "# Contamos los valores faltantes en cada columna\n",
    "missing_values = valoraciones.isnull().sum()\n",
    "\n",
    "# Filtramos solo las columnas que tienen valores faltantes\n",
    "missing_values = missing_values[missing_values > 0]\n",
    "\n",
    "# Mostramos los resultados\n",
    "print(\"Valores faltantes por columna:\")\n",
    "print(missing_values)\n",
    "\n",
    "# Identificar columnas con valores faltantes\n",
    "cols_with_missing = [col for col in X_train.columns if X_train[col].isnull().any()]\n",
    "\n",
    "# ************************************************** NO SE PUEDEN ELIMINAR LAS MISSING VALUES PORQUE NO HAY *******************************************************\n"
   ]
  },
  {
   "cell_type": "markdown",
   "metadata": {},
   "source": [
    "## Técnicas de Tratamiento de Valores Faltantes y Preparación de Datos\n",
    "\n",
    "En este documento se detallan las técnicas utilizadas para tratar valores faltantes y preparar los datos para el modelado. Cada técnica tiene sus propias ventajas y limitaciones, y la selección de cada una depende del contexto y las características de los datos.\n",
    "\n",
    "## 1. Imputación Básica con la Media\n",
    "La **imputación básica con la media** consiste en reemplazar los valores faltantes de cada columna por la media de esa columna. Este método es útil cuando los valores están distribuidos simétricamente, ya que la media representa el \"centro\" de la distribución de datos.\n",
    "\n",
    "**Ventajas**:\n",
    "\n",
    "- Sencillo de implementar.\n",
    "- Mantiene el tamaño del conjunto de datos.\n",
    "\n",
    "**Desventajas**:\n",
    "\n",
    "- Puede sesgar los resultados si hay valores extremos.\n",
    "- No conserva la variabilidad en los datos.\n"
   ]
  },
  {
   "cell_type": "code",
   "execution_count": 77,
   "metadata": {},
   "outputs": [
    {
     "name": "stdout",
     "output_type": "stream",
     "text": [
      "MAE (imputación con media):\n",
      "0.9354842117671656\n"
     ]
    }
   ],
   "source": [
    "# Imputación básica con la media\n",
    "from sklearn.impute import SimpleImputer\n",
    "\n",
    "# Imputación básica (media) como referencia\n",
    "imputer = SimpleImputer(strategy='mean')\n",
    "imputed_X_train = pd.DataFrame(imputer.fit_transform(X_train))\n",
    "imputed_X_valid = pd.DataFrame(imputer.transform(X_test))\n",
    "imputed_X_train.columns = X_train.columns\n",
    "imputed_X_valid.columns = X_test.columns\n",
    "\n",
    "print(\"MAE (imputación con media):\")\n",
    "print(score_dataset(imputed_X_train, imputed_X_valid, y_train, y_test))"
   ]
  },
  {
   "cell_type": "markdown",
   "metadata": {},
   "source": [
    "## 2. Imputación con Extensión Utilizando la Media\n",
    "La **imputación con extensión** consiste en crear indicadores adicionales que registran si un valor era originalmente faltante. Luego, se imputa el valor faltante usando la media, lo que ayuda a conservar la información sobre los datos faltantes y permite al modelo \"saber\" que se ha realizado una imputación.\n",
    "\n",
    "**Ventajas**:\n",
    "\n",
    "- Conserva información sobre la ausencia de datos.\n",
    "- Puede mejorar el rendimiento del modelo si los datos faltantes siguen un patrón.\n",
    "\n",
    "**Desventajas**:\n",
    "\n",
    "- Aumenta el número de características en el conjunto de datos.\n",
    "- Puede agregar complejidad innecesaria si los valores faltantes son aleatorios."
   ]
  },
  {
   "cell_type": "code",
   "execution_count": 78,
   "metadata": {},
   "outputs": [
    {
     "name": "stdout",
     "output_type": "stream",
     "text": [
      "MAE (imputación con extensión y media):\n",
      "0.9354842117671656\n"
     ]
    }
   ],
   "source": [
    "# Imputación con extensión utilizando la media\n",
    "X_train_plus = X_train.copy()\n",
    "X_valid_plus = X_test.copy()\n",
    "\n",
    "# Añadir indicadores de valores faltantes\n",
    "for col in cols_with_missing:\n",
    "    X_train_plus[col + '_was_missing'] = X_train_plus[col].isnull()\n",
    "    X_valid_plus[col + '_was_missing'] = X_valid_plus[col].isnull()\n",
    "\n",
    "# Imputar la media\n",
    "imputer = SimpleImputer(strategy='mean')\n",
    "imputed_X_train = pd.DataFrame(imputer.fit_transform(X_train_plus))\n",
    "imputed_X_valid = pd.DataFrame(imputer.transform(X_valid_plus))\n",
    "imputed_X_train.columns = X_train_plus.columns\n",
    "imputed_X_valid.columns = X_valid_plus.columns\n",
    "\n",
    "print(\"MAE (imputación con extensión y media):\")\n",
    "print(score_dataset(imputed_X_train, imputed_X_valid, y_train, y_test))"
   ]
  },
  {
   "cell_type": "markdown",
   "metadata": {},
   "source": [
    "## 3. Imputación con Extensión Utilizando la Mediana\n",
    "La **imputación con extensión utilizando la mediana** es similar al método anterior, pero reemplaza los valores faltantes por la mediana de cada columna en lugar de la media. Es útil cuando los datos tienen una distribución sesgada o contienen valores atípicos, ya que la mediana es menos sensible a los valores extremos.\n",
    "\n",
    "**Ventajas**:\n",
    "\n",
    "- Reduce el sesgo causado por valores atípicos.\n",
    "- Mantiene la robustez en presencia de distribuciones sesgadas.\n",
    "\n",
    "**Desventajas**:\n",
    "\n",
    "- Puede no capturar bien la media si los datos están distribuidos simétricamente.\n",
    "- Al igual que la media, puede reducir la variabilidad original de los datos."
   ]
  },
  {
   "cell_type": "code",
   "execution_count": 79,
   "metadata": {},
   "outputs": [
    {
     "name": "stdout",
     "output_type": "stream",
     "text": [
      "MAE (imputación con extensión y mediana):\n",
      "0.9354842117671656\n"
     ]
    }
   ],
   "source": [
    "# Imputación con extensión utilizando la mediana\n",
    "X_train_plus = X_train.copy()\n",
    "X_valid_plus = X_test.copy()\n",
    "\n",
    "for col in cols_with_missing:\n",
    "    X_train_plus[col + '_was_missing'] = X_train_plus[col].isnull()\n",
    "    X_valid_plus[col + '_was_missing'] = X_valid_plus[col].isnull()\n",
    "\n",
    "imputer = SimpleImputer(strategy='median')\n",
    "imputed_X_train = pd.DataFrame(imputer.fit_transform(X_train_plus))\n",
    "imputed_X_valid = pd.DataFrame(imputer.transform(X_valid_plus))\n",
    "imputed_X_train.columns = X_train_plus.columns\n",
    "imputed_X_valid.columns = X_valid_plus.columns\n",
    "\n",
    "print(\"MAE (imputación con extensión y mediana):\")\n",
    "print(score_dataset(imputed_X_train, imputed_X_valid, y_train, y_test))"
   ]
  },
  {
   "cell_type": "markdown",
   "metadata": {},
   "source": [
    "## 4. Imputación con Extensión Utilizando la Moda\n",
    "La **imputación con extensión utilizando la moda** reemplaza los valores faltantes por el valor más frecuente (o moda) de cada columna. Este método es especialmente útil para datos categóricos, donde la moda representa el valor que ocurre con mayor frecuencia.\n",
    "\n",
    "**Ventajas**:\n",
    "\n",
    "- Muy útil para datos categóricos.\n",
    "- Mantiene la distribución de valores en columnas con poca variabilidad.\n",
    "\n",
    "**Desventajas**:\n",
    "\n",
    "- Puede introducir sesgo si la moda no representa bien los valores faltantes.\n",
    "- Menos adecuado para datos numéricos continuos."
   ]
  },
  {
   "cell_type": "code",
   "execution_count": 80,
   "metadata": {},
   "outputs": [
    {
     "name": "stdout",
     "output_type": "stream",
     "text": [
      "MAE (imputación con extensión y moda):\n",
      "0.9354842117671656\n"
     ]
    }
   ],
   "source": [
    "# Imputación con extensión utilizando la moda\n",
    "X_train_plus = X_train.copy()\n",
    "X_valid_plus = X_test.copy()\n",
    "\n",
    "for col in cols_with_missing:\n",
    "    X_train_plus[col + '_was_missing'] = X_train_plus[col].isnull()\n",
    "    X_valid_plus[col + '_was_missing'] = X_valid_plus[col].isnull()\n",
    "\n",
    "imputer = SimpleImputer(strategy='most_frequent')\n",
    "imputed_X_train = pd.DataFrame(imputer.fit_transform(X_train_plus))\n",
    "imputed_X_valid = pd.DataFrame(imputer.transform(X_valid_plus))\n",
    "imputed_X_train.columns = X_train_plus.columns\n",
    "imputed_X_valid.columns = X_valid_plus.columns\n",
    "\n",
    "print(\"MAE (imputación con extensión y moda):\")\n",
    "print(score_dataset(imputed_X_train, imputed_X_valid, y_train, y_test))"
   ]
  },
  {
   "cell_type": "markdown",
   "metadata": {},
   "source": [
    "## 5. Imputación con Extensión Utilizando un Valor Constante\n",
    "La **imputación con un valor constante** es una técnica donde se reemplazan los valores faltantes con un valor específico (por ejemplo, `0` o `-1`). Este método es útil cuando se desea marcar valores faltantes con un indicador específico o cuando el contexto permite asignar un valor neutro o común.\n",
    "\n",
    "**Ventajas**:\n",
    "\n",
    "- Proporciona flexibilidad para seleccionar el valor de imputación.\n",
    "- Útil para valores categóricos o cuando el valor faltante tiene un significado específico.\n",
    "\n",
    "**Desventajas**:\n",
    "\n",
    "- Puede no ser adecuado si el valor constante no tiene sentido en el contexto de los datos.\n",
    "- Puede afectar negativamente el rendimiento del modelo si el valor elegido introduce ruido.\n"
   ]
  },
  {
   "cell_type": "code",
   "execution_count": 81,
   "metadata": {},
   "outputs": [
    {
     "name": "stdout",
     "output_type": "stream",
     "text": [
      "MAE (imputación con extensión y valor constante):\n",
      "0.9354842117671656\n"
     ]
    }
   ],
   "source": [
    "# Imputación con extensión utilizando un valor constante\n",
    "X_train_plus = X_train.copy()\n",
    "X_valid_plus = X_test.copy()\n",
    "\n",
    "for col in cols_with_missing:\n",
    "    X_train_plus[col + '_was_missing'] = X_train_plus[col].isnull()\n",
    "    X_valid_plus[col + '_was_missing'] = X_valid_plus[col].isnull()\n",
    "\n",
    "imputer = SimpleImputer(strategy='constant', fill_value=0)\n",
    "imputed_X_train = pd.DataFrame(imputer.fit_transform(X_train_plus))\n",
    "imputed_X_valid = pd.DataFrame(imputer.transform(X_valid_plus))\n",
    "imputed_X_train.columns = X_train_plus.columns\n",
    "imputed_X_valid.columns = X_valid_plus.columns\n",
    "\n",
    "print(\"MAE (imputación con extensión y valor constante):\")\n",
    "print(score_dataset(imputed_X_train, imputed_X_valid, y_train, y_test))"
   ]
  },
  {
   "cell_type": "markdown",
   "metadata": {},
   "source": [
    "## 6. Eliminación de Columnas con Valores Faltantes\n",
    "La **eliminación de columnas con valores faltantes** consiste en eliminar cualquier columna que contenga valores faltantes. Es una técnica útil si hay pocas columnas con valores faltantes o si las columnas no son esenciales para el modelo.\n",
    "\n",
    "**Ventajas**:\n",
    "\n",
    "- Sencilla de implementar y asegura que no haya datos faltantes en el conjunto final.\n",
    "- Puede mejorar la eficiencia al reducir el número de características.\n",
    "\n",
    "**Desventajas**:\n",
    "\n",
    "- Puede resultar en la pérdida de información importante si las columnas eliminadas son relevantes.\n",
    "- No es adecuado si muchas columnas contienen valores faltantes."
   ]
  },
  {
   "cell_type": "code",
   "execution_count": 82,
   "metadata": {},
   "outputs": [
    {
     "name": "stdout",
     "output_type": "stream",
     "text": [
      "MAE (eliminar columnas):\n",
      "0.9354842117671656\n"
     ]
    }
   ],
   "source": [
    "# Selecciono las columnas con valores faltantes en el conjunto de entrenamiento.\n",
    "cols_with_missing = [col for col in X_train.columns if X_train[col].isnull().any()]\n",
    "\n",
    "# Elimino las columnas de los datos de entrenamiento y validación.\n",
    "reduced_X_train = X_train.drop(cols_with_missing, axis=1)\n",
    "reduced_X_valid = X_test.drop(cols_with_missing, axis=1)\n",
    "\n",
    "# Calculo el MAE usando el conjunto de datos con columnas eliminadas.\n",
    "print(\"MAE (eliminar columnas):\")\n",
    "print(score_dataset(reduced_X_train, reduced_X_valid, y_train, y_test))\n"
   ]
  },
  {
   "cell_type": "markdown",
   "metadata": {},
   "source": [
    "# Resumen Preproceso de datos "
   ]
  },
  {
   "cell_type": "code",
   "execution_count": 83,
   "metadata": {},
   "outputs": [
    {
     "name": "stdout",
     "output_type": "stream",
     "text": [
      "MAE (imputación con media):\n",
      "0.9354842117671656\n",
      "MAE (imputación con extensión y media):\n",
      "0.9354842117671656\n",
      "MAE (imputación con extensión y mediana):\n",
      "0.9354842117671656\n",
      "MAE (imputación con extensión y moda):\n",
      "0.9354842117671656\n",
      "MAE (imputación con extensión y valor constante):\n",
      "0.9354842117671656\n",
      "MAE (eliminar columnas):\n",
      "0.9354842117671656\n"
     ]
    }
   ],
   "source": [
    "# Inputacion utilizando la media\n",
    "print(\"MAE (imputación con media):\")\n",
    "print(score_dataset(imputed_X_train, imputed_X_valid, y_train, y_test))\n",
    "\n",
    "# Inputacion con extensión utilizando la media\n",
    "print(\"MAE (imputación con extensión y media):\")\n",
    "print(score_dataset(imputed_X_train, imputed_X_valid, y_train, y_test))\n",
    "\n",
    "# Inputacion con extensión utilizando la mediana \n",
    "print(\"MAE (imputación con extensión y mediana):\")\n",
    "print(score_dataset(imputed_X_train, imputed_X_valid, y_train, y_test))\n",
    "\n",
    "# Imputacion con extension utilizando la moda \n",
    "print(\"MAE (imputación con extensión y moda):\")\n",
    "print(score_dataset(imputed_X_train, imputed_X_valid, y_train, y_test))\n",
    "\n",
    "# Calculo el MAE usando un valor constante\n",
    "print(\"MAE (imputación con extensión y valor constante):\")\n",
    "print(score_dataset(imputed_X_train, imputed_X_valid, y_train, y_test))\n",
    "\n",
    "# Calculo el MAE usando el conjunto de datos con columnas eliminadas.\n",
    "print(\"MAE (eliminar columnas):\")\n",
    "print(score_dataset(reduced_X_train, reduced_X_valid, y_train, y_test))"
   ]
  },
  {
   "cell_type": "markdown",
   "metadata": {},
   "source": [
    "\n",
    "# Técnicas de Transformación de Variables Categóricas\n",
    "\n",
    "Al preparar datos para un modelo de machine learning, es importante transformar las variables categóricas en un formato numérico adecuado. A continuación, se describen tres técnicas comunes para trabajar con variables categóricas.\n",
    "\n",
    "## Eliminación de Variables Categóricas\n",
    "\n",
    "La **eliminación de variables categóricas** consiste en descartar aquellas columnas categóricas que no son necesarias o que pueden introducir ruido en el modelo. Esta técnica es útil cuando ciertas variables categóricas no aportan información significativa o cuando el conjunto de datos tiene demasiadas categorías, lo que complica el proceso de codificación.\n",
    "\n",
    "**Ventajas**:\n",
    "\n",
    "- Sencillo de implementar, ya que solo requiere eliminar columnas.\n",
    "- Reduce la dimensionalidad del conjunto de datos, mejorando la eficiencia.\n",
    "\n",
    "**Desventajas**:\n",
    "\n",
    "- Puede perderse información valiosa si las variables eliminadas son relevantes.\n",
    "- No adecuado si se pierden variables importantes para el modelo."
   ]
  },
  {
   "cell_type": "code",
   "execution_count": null,
   "metadata": {},
   "outputs": [],
   "source": []
  },
  {
   "cell_type": "markdown",
   "metadata": {},
   "source": [
    "## Codificación Ordinal (Ordinal Encoding)\n",
    "\n",
    "La **codificación ordinal** asigna un valor numérico a cada categoría en una columna, siguiendo un orden. Este método es adecuado para variables categóricas que tienen un orden inherente, como \"Bajo\", \"Medio\" y \"Alto\". Con este enfoque, se asignan valores enteros a cada nivel de la categoría en orden creciente o decreciente.\n",
    "**Ventajas**:\n",
    "\n",
    "- Mantiene el orden natural de las categorías, lo que es importante para variables ordinales.\n",
    "- Sencillo de implementar y no aumenta la dimensionalidad del conjunto de datos.\n",
    "\n",
    "**Desventajas**:\n",
    "\n",
    "- No es adecuado para variables categóricas sin un orden específico, ya que introduce relaciones numéricas que no existen.\n",
    "- Puede causar problemas si el modelo interpreta los valores numéricos como cantidades en lugar de categorías.\n"
   ]
  },
  {
   "cell_type": "code",
   "execution_count": null,
   "metadata": {},
   "outputs": [],
   "source": []
  },
  {
   "cell_type": "markdown",
   "metadata": {},
   "source": [
    "### Codificación One-Hot (One-Hot Encoding)\n",
    "\n",
    "La **codificación one-hot** convierte cada categoría en una columna binaria, donde se indica la presencia o ausencia de cada categoría con valores de `1` o `0`. Este método es adecuado para variables categóricas sin orden, como \"Rojo\", \"Verde\" y \"Azul\", ya que evita introducir relaciones numéricas entre categorías.\n",
    "\n",
    "**Ventajas**:\n",
    "\n",
    "- Evita introducir relaciones numéricas no deseadas en las variables categóricas sin orden.\n",
    "- Facilita la interpretación del modelo cuando cada categoría tiene su propia columna.\n",
    "\n",
    "**Desventajas**:\n",
    "\n",
    "- Aumenta la dimensionalidad del conjunto de datos, especialmente cuando hay muchas categorías, lo que puede ralentizar el proceso de entrenamiento.\n",
    "- Puede requerir mucho almacenamiento y procesamiento, especialmente para variables con un gran número de categorías.\n"
   ]
  },
  {
   "cell_type": "code",
   "execution_count": null,
   "metadata": {},
   "outputs": [],
   "source": []
  }
 ],
 "metadata": {
  "kernelspec": {
   "display_name": "Python 3",
   "language": "python",
   "name": "python3"
  },
  "language_info": {
   "codemirror_mode": {
    "name": "ipython",
    "version": 3
   },
   "file_extension": ".py",
   "mimetype": "text/x-python",
   "name": "python",
   "nbconvert_exporter": "python",
   "pygments_lexer": "ipython3",
   "version": "3.11.9"
  }
 },
 "nbformat": 4,
 "nbformat_minor": 2
}
