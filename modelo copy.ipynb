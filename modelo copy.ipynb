{
 "cells": [
  {
   "cell_type": "markdown",
   "metadata": {},
   "source": [
    "## Cargar los datos \n",
    "### DataFrame:\n"
   ]
  },
  {
   "cell_type": "code",
   "execution_count": 7,
   "metadata": {},
   "outputs": [],
   "source": [
    "# Importamos las librerías necesarias.\n",
    "import pandas as pd\n",
    "from sklearn.ensemble import RandomForestRegressor\n",
    "from sklearn.metrics import mean_absolute_error\n",
    "from sklearn.metrics import accuracy_score\n",
    "from sklearn.model_selection import train_test_split\n",
    "from sklearn.ensemble import RandomForestClassifier, GradientBoostingClassifier\n",
    "from sklearn.tree import DecisionTreeClassifier\n",
    "from sklearn.linear_model import LogisticRegression\n",
    "from sklearn.model_selection import train_test_split, cross_val_score \n",
    "from sklearn.preprocessing import LabelEncoder\n",
    "import matplotlib.pyplot as plt\n",
    "import numpy as np\n",
    "\n",
    "# Cargamos los datos.\n",
    "valoraciones = pd.read_json('data/web_reviews.json')"
   ]
  },
  {
   "cell_type": "markdown",
   "metadata": {},
   "source": [
    "# Función .info()\n",
    "## El resultado de `valoraciones.info()` es que contiene un total de **10,261 filas** y **9 columnas**.\n",
    "**Columnas:**\n",
    "- **reviewerID**: ID del revisor, tipo `object` (cadena de texto).\n",
    "- **asin**: ID del producto, tipo `object`.\n",
    "- **reviewerName**: Nombre del revisor, tipo `object`.\n",
    "- **helpful**: Información sobre la utilidad de la reseña (como una lista que muestra votos útiles), tipo `object`.\n",
    "- **reviewText**: Texto de la reseña, tipo `object`.\n",
    "- **overall**: Calificación general del producto (1 a 5), tipo `int64`.\n",
    "- **summary**: Resumen breve de la reseña, tipo `object`.\n",
    "- **unixReviewTime**: Fecha de la reseña en formato de tiempo Unix, tipo `int64`.\n",
    "- **reviewTime**: Fecha de la reseña en formato de texto, tipo `object`.\n",
    "\n",
    "### Información adicional:\n",
    "- **Tipos de datos**: La mayoría de las columnas son de tipo `object` (cadenas de texto), excepto `overall` y `unixReviewTime`, que son enteros (`int64`).\n",
    "- **Uso de memoria**: El DataFrame ocupa aproximadamente **721.6 KB** en memoria.\n"
   ]
  },
  {
   "cell_type": "code",
   "execution_count": 8,
   "metadata": {},
   "outputs": [
    {
     "name": "stdout",
     "output_type": "stream",
     "text": [
      "       reviewerID        asin  \\\n",
      "0  A2IBPI20UZIR0U  1384719342   \n",
      "1  A14VAT5EAX3D9S  1384719342   \n",
      "2  A195EZSQDW3E21  1384719342   \n",
      "3  A2C00NNG1ZQQG2  1384719342   \n",
      "4   A94QU4C90B1AX  1384719342   \n",
      "\n",
      "                                       reviewerName   helpful  \\\n",
      "0  cassandra tu \"Yeah, well, that's just like, u...    [0, 0]   \n",
      "1                                              Jake  [13, 14]   \n",
      "2                      Rick Bennette \"Rick Bennette    [1, 1]   \n",
      "3                          RustyBill \"Sunday Rocker    [0, 0]   \n",
      "4                                     SEAN MASLANKA    [0, 0]   \n",
      "\n",
      "                                          reviewText  overall  \\\n",
      "0  Not much to write about here, but it does exac...        5   \n",
      "1  The product does exactly as it should and is q...        5   \n",
      "2  The primary job of this device is to block the...        5   \n",
      "3  Nice windscreen protects my MXL mic and preven...        5   \n",
      "4  This pop filter is great. It looks and perform...        5   \n",
      "\n",
      "                                 summary  unixReviewTime   reviewTime  \\\n",
      "0                                   good      1393545600  02 28, 2014   \n",
      "1                                   Jake      1363392000  03 16, 2013   \n",
      "2                   It Does The Job Well      1377648000  08 28, 2013   \n",
      "3          GOOD WINDSCREEN FOR THE MONEY      1392336000  02 14, 2014   \n",
      "4  No more pops when I record my vocals.      1392940800  02 21, 2014   \n",
      "\n",
      "  instrumentType  \n",
      "0         String  \n",
      "1       Keyboard  \n",
      "2     Wind Brass  \n",
      "3                 \n",
      "4       Keyboard  \n",
      "<class 'pandas.core.frame.DataFrame'>\n",
      "RangeIndex: 10261 entries, 0 to 10260\n",
      "Data columns (total 10 columns):\n",
      " #   Column          Non-Null Count  Dtype \n",
      "---  ------          --------------  ----- \n",
      " 0   reviewerID      10261 non-null  object\n",
      " 1   asin            10261 non-null  object\n",
      " 2   reviewerName    10261 non-null  object\n",
      " 3   helpful         10261 non-null  object\n",
      " 4   reviewText      10261 non-null  object\n",
      " 5   overall         10261 non-null  int64 \n",
      " 6   summary         10261 non-null  object\n",
      " 7   unixReviewTime  10261 non-null  int64 \n",
      " 8   reviewTime      10261 non-null  object\n",
      " 9   instrumentType  10261 non-null  object\n",
      "dtypes: int64(2), object(8)\n",
      "memory usage: 801.8+ KB\n"
     ]
    }
   ],
   "source": [
    "# Visualizar las 5 primeras filas de la tabla\n",
    "print(valoraciones.head())\n",
    "\n",
    "# Información general de la tabla\n",
    "valoraciones.info() "
   ]
  },
  {
   "cell_type": "markdown",
   "metadata": {},
   "source": [
    "## .describe\n",
    "El resultado de `valoraciones.describe()` proporciona un resumen estadístico de las columnas **numéricas** en el DataFrame. Ayudan a entender la distribución y la tendencia de las calificaciones junto con los tiempos de revisión:\n",
    "\n",
    "### Interpretación:\n",
    "- **overall**: \n",
    "  - Representa la calificación general del producto.\n",
    "  - La media es de **4.59**, lo cual indica que la mayoría de las valoraciones son altas.\n",
    "  - El valor mínimo es **1** y el máximo es **10**.\n",
    "  \n",
    "- **unixReviewTime**: \n",
    "  - Representa la fecha de la reseña en formato Unix.\n",
    "  - La media es **1.356565e+09**, y el rango va desde **1.204819e+09** hasta **1.405382e+09**."
   ]
  },
  {
   "cell_type": "code",
   "execution_count": 21,
   "metadata": {},
   "outputs": [
    {
     "name": "stdout",
     "output_type": "stream",
     "text": [
      "   unixReviewTime reviewTime_normal\n",
      "0      1393545600        2014-02-28\n",
      "1      1363392000        2013-03-16\n",
      "2      1377648000        2013-08-28\n",
      "3      1392336000        2014-02-14\n",
      "4      1392940800        2014-02-21\n",
      "reviewerName                 object\n",
      "helpful                      object\n",
      "reviewText                   object\n",
      "summary                      object\n",
      "reviewTime_normal    datetime64[ns]\n",
      "reviewTime                   object\n",
      "instrumentType               object\n",
      "dtype: object\n",
      "Columnas de tipo string: ['reviewerName', 'helpful', 'reviewText', 'summary', 'reviewTime', 'instrumentType']\n"
     ]
    }
   ],
   "source": [
    "valoraciones.describe()\n",
    "\n",
    "# Convertir unixReviewTime a fecha normal\n",
    "valoraciones['reviewTime_normal'] = pd.to_datetime(valoraciones['unixReviewTime'], unit='s')\n",
    "\n",
    "# Mostrar las primeras filas para verificar\n",
    "print(valoraciones[['unixReviewTime', 'reviewTime_normal']].head())\n",
    "\n",
    "valoraciones.describe()\n",
    "\n",
    "\n",
    "X = valoraciones[['reviewerName', 'helpful', 'reviewText', 'summary', 'reviewTime_normal', 'reviewTime', 'instrumentType']]\n",
    "# Mostrar los tipos de datos de cada columna en X\n",
    "print(X.dtypes)\n",
    "\n",
    "# Filtrar columnas que son de tipo object (string)\n",
    "columnas_string = X.select_dtypes(include=['object']).columns\n",
    "print(f\"Columnas de tipo string: {list(columnas_string)}\")\n"
   ]
  },
  {
   "cell_type": "markdown",
   "metadata": {},
   "source": [
    "## Entrenamos un modelo "
   ]
  },
  {
   "cell_type": "code",
   "execution_count": 23,
   "metadata": {},
   "outputs": [
    {
     "name": "stdout",
     "output_type": "stream",
     "text": [
      "Precisión del modelo: 0.56\n"
     ]
    }
   ],
   "source": [
    "\n",
    "\n",
    "# # Ajustamos la columna 'helpful' para obtener el número de votos útiles\n",
    "# valoraciones['helpful_votes'] = valoraciones['helpful'].apply(lambda x: x[0] if isinstance(x, list) and len(x) > 0 else 0)\n",
    "\n",
    "# # Convertimos todas las columnas de tipo object a valores numéricos\n",
    "# for column in valoraciones.select_dtypes(include=['object']).columns:\n",
    "#     if column == 'reviewText':\n",
    "#         # Nueva característica con la longitud del texto\n",
    "#         valoraciones['reviewText_length'] = valoraciones['reviewText'].apply(lambda x: len(x) if isinstance(x, str) else 0)\n",
    "#     elif column == 'summary':\n",
    "#         # Nueva característica con la longitud del resumen\n",
    "#         valoraciones['summary_length'] = valoraciones['summary'].apply(lambda x: len(x) if isinstance(x, str) else 0)\n",
    "#     else:\n",
    "#         # Eliminamos columnas irrelevantes\n",
    "#         valoraciones = valoraciones.drop(columns=[column])\n",
    "\n",
    "# # Seleccionamos todas las características menos la columna objetivo 'overall'\n",
    "# X = valoraciones[['reviewerName', 'helpful', 'reviewText', 'summary', 'reviewTime_normal', 'reviewTime', 'instrumentType']]\n",
    "\n",
    "# y = valoraciones['overall']\n",
    "\n",
    "# # Dividimos los datos en entrenamiento y prueba\n",
    "# X_train, X_test, y_train, y_test = train_test_split(X, y, test_size=0.2, random_state=1)\n",
    "\n",
    "# # Entrenamos un modelo de Random Forest para calcular la importancia de las características\n",
    "# modelo_rf = RandomForestClassifier(random_state=1)\n",
    "# modelo_rf.fit(X_train, y_train)\n",
    "\n",
    "# # Obtenemos la importancia de las características\n",
    "# importancias = modelo_rf.feature_importances_\n",
    "# features = X.columns\n",
    "\n",
    "# # Creamos un DataFrame para visualizar la importancia de cada característica\n",
    "# importantesDf = pd.DataFrame({'Feature': features, 'Importance': importancias})\n",
    "# importantesDf = importantesDf.sort_values(by='Importance', ascending=False)\n",
    "\n",
    "# # Mostrar DataFrame de importancias\n",
    "# print(\"\\nImportancia de las características:\")\n",
    "# print(importantesDf)\n",
    "\n",
    "# # Visualizamos las importancias de características\n",
    "# plt.figure(figsize=(10, 8))\n",
    "# plt.barh(importantesDf['Feature'], importantesDf['Importance'], color='skyblue')\n",
    "# plt.xlabel('Importancia')\n",
    "# plt.title('Importancia de las Características en el Modelo Random Forest')\n",
    "# plt.gca().invert_yaxis()\n",
    "# plt.show()\n",
    "\n",
    "# # Filtramos las características menos relevantes según un umbral de importancia\n",
    "# umbral_importancia = 0.01  # Ajusta este valor según los resultados\n",
    "# mejores_features = importantesDf[importantesDf['Importance'] > umbral_importancia]['Feature'].tolist()\n",
    "\n",
    "# # Creamos el conjunto de datos final solo con las características más relevantes\n",
    "# X_train_mejores = X_train[mejores_features]\n",
    "# X_test_mejores = X_test[mejores_features]\n",
    "\n",
    "# # Entrenamos y evaluamos el modelo con las características seleccionadas\n",
    "# modelo_final = RandomForestClassifier(random_state=1)\n",
    "# modelo_final.fit(X_train_mejores, y_train)\n",
    "# predicciones_final = modelo_final.predict(X_test_mejores)\n",
    "# accuracy_final = modelo_final.score(X_test_mejores, y_test)\n",
    "# print(f'\\nPrecisión del modelo con características seleccionadas: {accuracy_final:.2f}')\n",
    "\n",
    "# # Dividimos los datos en entrenamiento y prueba\n",
    "# X_train, X_test, y_train, y_test = train_test_split(X, y, test_size=0.2, random_state=1)\n",
    "\n",
    "# # Definimos los modelos a comparar\n",
    "# modelos = {\n",
    "#     'Random Forest': RandomForestClassifier(random_state=1),\n",
    "#     'Gradient Boosting': GradientBoostingClassifier(random_state=1),\n",
    "#     'Decision Tree': DecisionTreeClassifier(random_state=1),\n",
    "#     'Logistic Regression': LogisticRegression(max_iter=200, random_state=1)\n",
    "# }\n",
    "\n",
    "# # Evaluamos cada modelo\n",
    "# for nombre, modelo in modelos.items():\n",
    "#     modelo.fit(X_train, y_train)\n",
    "#     predicciones = modelo.predict(X_test)\n",
    "#     accuracy = accuracy_score(y_test, predicciones)\n",
    "#     print(f'Precisión de {nombre}: {accuracy:.2f}')\n",
    "\n",
    "# Ajustamos la columna 'helpful' para obtener el número de votos útiles\n",
    "valoraciones['helpful_votes'] = valoraciones['helpful'].apply(lambda x: x[0] if isinstance(x, list) and len(x) > 0 else 0)\n",
    "\n",
    "# Convertir 'reviewTime_normal' a timestamp (número de segundos desde 1970)\n",
    "valoraciones['reviewTime_normal'] = valoraciones['reviewTime_normal'].astype(np.int64) // 10**9  # Convertir a segundos\n",
    "\n",
    "# Seleccionar solo las columnas que sean numéricas\n",
    "X = valoraciones[['helpful_votes', 'reviewTime_normal']]\n",
    "\n",
    "y = valoraciones['overall']  # La variable objetivo\n",
    "\n",
    "# Dividir los datos en entrenamiento y prueba\n",
    "X_train, X_test, y_train, y_test = train_test_split(X, y, test_size=0.2, random_state=1)\n",
    "\n",
    "# Entrenar un modelo de Random Forest\n",
    "modelo_rf = RandomForestClassifier(random_state=1)\n",
    "modelo_rf.fit(X_train, y_train)\n",
    "\n",
    "# Evaluar el modelo\n",
    "accuracy = modelo_rf.score(X_test, y_test)\n",
    "print(f'Precisión del modelo: {accuracy:.2f}')\n"
   ]
  },
  {
   "cell_type": "markdown",
   "metadata": {},
   "source": [
    "## Buscar missing values"
   ]
  },
  {
   "cell_type": "code",
   "execution_count": 24,
   "metadata": {},
   "outputs": [
    {
     "name": "stdout",
     "output_type": "stream",
     "text": [
      "Valores faltantes por columna:\n",
      "Series([], dtype: int64)\n"
     ]
    }
   ],
   "source": [
    "# Defino una función que me ayude a comparar las diferentes estrategias.\n",
    "def score_dataset(X_train, X_valid, y_train, y_valid):\n",
    "    ''' \n",
    "    Función para comparar estrategias y devolver el MAE \n",
    "    '''\n",
    "    model = RandomForestRegressor(n_estimators=73, random_state=1)\n",
    "    model.fit(X_train, y_train)\n",
    "    preds = model.predict(X_valid)\n",
    "    return mean_absolute_error(y_valid, preds)\n",
    "\n",
    "# Contamos los valores faltantes en cada columna\n",
    "missing_values = valoraciones.isnull().sum()\n",
    "\n",
    "# Filtramos solo las columnas que tienen valores faltantes\n",
    "missing_values = missing_values[missing_values > 0]\n",
    "\n",
    "# Mostramos los resultados\n",
    "print(\"Valores faltantes por columna:\")\n",
    "print(missing_values)\n",
    "\n",
    "# Identificar columnas con valores faltantes\n",
    "cols_with_missing = [col for col in X_train.columns if X_train[col].isnull().any()]\n",
    "\n",
    "# ************************************************** NO SE PUEDEN ELIMINAR LAS MISSING VALUES PORQUE NO HAY *******************************************************\n"
   ]
  },
  {
   "cell_type": "markdown",
   "metadata": {},
   "source": [
    "## Técnicas de Tratamiento de Valores Faltantes y Preparación de Datos\n",
    "\n",
    "En este documento se detallan las técnicas utilizadas para tratar valores faltantes y preparar los datos para el modelado. Cada técnica tiene sus propias ventajas y limitaciones, y la selección de cada una depende del contexto y las características de los datos.\n",
    "\n",
    "## 1. Imputación Básica con la Media\n",
    "La **imputación básica con la media** consiste en reemplazar los valores faltantes de cada columna por la media de esa columna. Este método es útil cuando los valores están distribuidos simétricamente, ya que la media representa el \"centro\" de la distribución de datos.\n",
    "\n",
    "**Ventajas**:\n",
    "\n",
    "- Sencillo de implementar.\n",
    "- Mantiene el tamaño del conjunto de datos.\n",
    "\n",
    "**Desventajas**:\n",
    "\n",
    "- Puede sesgar los resultados si hay valores extremos.\n",
    "- No conserva la variabilidad en los datos.\n"
   ]
  },
  {
   "cell_type": "code",
   "execution_count": 25,
   "metadata": {},
   "outputs": [
    {
     "name": "stdout",
     "output_type": "stream",
     "text": [
      "MAE (imputación con media):\n",
      "0.9784773130392663\n"
     ]
    }
   ],
   "source": [
    "# Imputación básica con la media\n",
    "from sklearn.impute import SimpleImputer\n",
    "\n",
    "# Imputación básica (media) como referencia\n",
    "imputer = SimpleImputer(strategy='mean')\n",
    "imputed_X_train = pd.DataFrame(imputer.fit_transform(X_train))\n",
    "imputed_X_valid = pd.DataFrame(imputer.transform(X_test))\n",
    "imputed_X_train.columns = X_train.columns\n",
    "imputed_X_valid.columns = X_test.columns\n",
    "\n",
    "print(\"MAE (imputación con media):\")\n",
    "print(score_dataset(imputed_X_train, imputed_X_valid, y_train, y_test))"
   ]
  },
  {
   "cell_type": "markdown",
   "metadata": {},
   "source": [
    "## 2. Imputación con Extensión Utilizando la Media\n",
    "La **imputación con extensión** consiste en crear indicadores adicionales que registran si un valor era originalmente faltante. Luego, se imputa el valor faltante usando la media, lo que ayuda a conservar la información sobre los datos faltantes y permite al modelo \"saber\" que se ha realizado una imputación.\n",
    "\n",
    "**Ventajas**:\n",
    "\n",
    "- Conserva información sobre la ausencia de datos.\n",
    "- Puede mejorar el rendimiento del modelo si los datos faltantes siguen un patrón.\n",
    "\n",
    "**Desventajas**:\n",
    "\n",
    "- Aumenta el número de características en el conjunto de datos.\n",
    "- Puede agregar complejidad innecesaria si los valores faltantes son aleatorios."
   ]
  },
  {
   "cell_type": "code",
   "execution_count": 26,
   "metadata": {},
   "outputs": [
    {
     "name": "stdout",
     "output_type": "stream",
     "text": [
      "MAE (imputación con extensión y media):\n",
      "0.9784773130392663\n"
     ]
    }
   ],
   "source": [
    "# Imputación con extensión utilizando la media\n",
    "X_train_plus = X_train.copy()\n",
    "X_valid_plus = X_test.copy()\n",
    "\n",
    "# Añadir indicadores de valores faltantes\n",
    "for col in cols_with_missing:\n",
    "    X_train_plus[col + '_was_missing'] = X_train_plus[col].isnull()\n",
    "    X_valid_plus[col + '_was_missing'] = X_valid_plus[col].isnull()\n",
    "\n",
    "# Imputar la media\n",
    "imputer = SimpleImputer(strategy='mean')\n",
    "imputed_X_train = pd.DataFrame(imputer.fit_transform(X_train_plus))\n",
    "imputed_X_valid = pd.DataFrame(imputer.transform(X_valid_plus))\n",
    "imputed_X_train.columns = X_train_plus.columns\n",
    "imputed_X_valid.columns = X_valid_plus.columns\n",
    "\n",
    "print(\"MAE (imputación con extensión y media):\")\n",
    "print(score_dataset(imputed_X_train, imputed_X_valid, y_train, y_test))"
   ]
  },
  {
   "cell_type": "markdown",
   "metadata": {},
   "source": [
    "## 3. Imputación con Extensión Utilizando la Mediana\n",
    "La **imputación con extensión utilizando la mediana** es similar al método anterior, pero reemplaza los valores faltantes por la mediana de cada columna en lugar de la media. Es útil cuando los datos tienen una distribución sesgada o contienen valores atípicos, ya que la mediana es menos sensible a los valores extremos.\n",
    "\n",
    "**Ventajas**:\n",
    "\n",
    "- Reduce el sesgo causado por valores atípicos.\n",
    "- Mantiene la robustez en presencia de distribuciones sesgadas.\n",
    "\n",
    "**Desventajas**:\n",
    "\n",
    "- Puede no capturar bien la media si los datos están distribuidos simétricamente.\n",
    "- Al igual que la media, puede reducir la variabilidad original de los datos."
   ]
  },
  {
   "cell_type": "code",
   "execution_count": 27,
   "metadata": {},
   "outputs": [
    {
     "name": "stdout",
     "output_type": "stream",
     "text": [
      "MAE (imputación con extensión y mediana):\n",
      "0.9784773130392663\n"
     ]
    }
   ],
   "source": [
    "# Imputación con extensión utilizando la mediana\n",
    "X_train_plus = X_train.copy()\n",
    "X_valid_plus = X_test.copy()\n",
    "\n",
    "for col in cols_with_missing:\n",
    "    X_train_plus[col + '_was_missing'] = X_train_plus[col].isnull()\n",
    "    X_valid_plus[col + '_was_missing'] = X_valid_plus[col].isnull()\n",
    "\n",
    "imputer = SimpleImputer(strategy='median')\n",
    "imputed_X_train = pd.DataFrame(imputer.fit_transform(X_train_plus))\n",
    "imputed_X_valid = pd.DataFrame(imputer.transform(X_valid_plus))\n",
    "imputed_X_train.columns = X_train_plus.columns\n",
    "imputed_X_valid.columns = X_valid_plus.columns\n",
    "\n",
    "print(\"MAE (imputación con extensión y mediana):\")\n",
    "print(score_dataset(imputed_X_train, imputed_X_valid, y_train, y_test))"
   ]
  },
  {
   "cell_type": "markdown",
   "metadata": {},
   "source": [
    "## 4. Imputación con Extensión Utilizando la Moda\n",
    "La **imputación con extensión utilizando la moda** reemplaza los valores faltantes por el valor más frecuente (o moda) de cada columna. Este método es especialmente útil para datos categóricos, donde la moda representa el valor que ocurre con mayor frecuencia.\n",
    "\n",
    "**Ventajas**:\n",
    "\n",
    "- Muy útil para datos categóricos.\n",
    "- Mantiene la distribución de valores en columnas con poca variabilidad.\n",
    "\n",
    "**Desventajas**:\n",
    "\n",
    "- Puede introducir sesgo si la moda no representa bien los valores faltantes.\n",
    "- Menos adecuado para datos numéricos continuos."
   ]
  },
  {
   "cell_type": "code",
   "execution_count": 28,
   "metadata": {},
   "outputs": [
    {
     "name": "stdout",
     "output_type": "stream",
     "text": [
      "MAE (imputación con extensión y moda):\n",
      "0.9784773130392663\n"
     ]
    }
   ],
   "source": [
    "# Imputación con extensión utilizando la moda\n",
    "X_train_plus = X_train.copy()\n",
    "X_valid_plus = X_test.copy()\n",
    "\n",
    "for col in cols_with_missing:\n",
    "    X_train_plus[col + '_was_missing'] = X_train_plus[col].isnull()\n",
    "    X_valid_plus[col + '_was_missing'] = X_valid_plus[col].isnull()\n",
    "\n",
    "imputer = SimpleImputer(strategy='most_frequent')\n",
    "imputed_X_train = pd.DataFrame(imputer.fit_transform(X_train_plus))\n",
    "imputed_X_valid = pd.DataFrame(imputer.transform(X_valid_plus))\n",
    "imputed_X_train.columns = X_train_plus.columns\n",
    "imputed_X_valid.columns = X_valid_plus.columns\n",
    "\n",
    "print(\"MAE (imputación con extensión y moda):\")\n",
    "print(score_dataset(imputed_X_train, imputed_X_valid, y_train, y_test))"
   ]
  },
  {
   "cell_type": "markdown",
   "metadata": {},
   "source": [
    "## 5. Imputación con Extensión Utilizando un Valor Constante\n",
    "La **imputación con un valor constante** es una técnica donde se reemplazan los valores faltantes con un valor específico (por ejemplo, `0` o `-1`). Este método es útil cuando se desea marcar valores faltantes con un indicador específico o cuando el contexto permite asignar un valor neutro o común.\n",
    "\n",
    "**Ventajas**:\n",
    "\n",
    "- Proporciona flexibilidad para seleccionar el valor de imputación.\n",
    "- Útil para valores categóricos o cuando el valor faltante tiene un significado específico.\n",
    "\n",
    "**Desventajas**:\n",
    "\n",
    "- Puede no ser adecuado si el valor constante no tiene sentido en el contexto de los datos.\n",
    "- Puede afectar negativamente el rendimiento del modelo si el valor elegido introduce ruido.\n"
   ]
  },
  {
   "cell_type": "code",
   "execution_count": 29,
   "metadata": {},
   "outputs": [
    {
     "name": "stdout",
     "output_type": "stream",
     "text": [
      "MAE (imputación con extensión y valor constante):\n",
      "0.9784773130392663\n"
     ]
    }
   ],
   "source": [
    "# Imputación con extensión utilizando un valor constante\n",
    "X_train_plus = X_train.copy()\n",
    "X_valid_plus = X_test.copy()\n",
    "\n",
    "for col in cols_with_missing:\n",
    "    X_train_plus[col + '_was_missing'] = X_train_plus[col].isnull()\n",
    "    X_valid_plus[col + '_was_missing'] = X_valid_plus[col].isnull()\n",
    "\n",
    "imputer = SimpleImputer(strategy='constant', fill_value=0)\n",
    "imputed_X_train = pd.DataFrame(imputer.fit_transform(X_train_plus))\n",
    "imputed_X_valid = pd.DataFrame(imputer.transform(X_valid_plus))\n",
    "imputed_X_train.columns = X_train_plus.columns\n",
    "imputed_X_valid.columns = X_valid_plus.columns\n",
    "\n",
    "print(\"MAE (imputación con extensión y valor constante):\")\n",
    "print(score_dataset(imputed_X_train, imputed_X_valid, y_train, y_test))"
   ]
  },
  {
   "cell_type": "markdown",
   "metadata": {},
   "source": [
    "## 6. Eliminación de Columnas con Valores Faltantes\n",
    "La **eliminación de columnas con valores faltantes** consiste en eliminar cualquier columna que contenga valores faltantes. Es una técnica útil si hay pocas columnas con valores faltantes o si las columnas no son esenciales para el modelo.\n",
    "\n",
    "**Ventajas**:\n",
    "\n",
    "- Sencilla de implementar y asegura que no haya datos faltantes en el conjunto final.\n",
    "- Puede mejorar la eficiencia al reducir el número de características.\n",
    "\n",
    "**Desventajas**:\n",
    "\n",
    "- Puede resultar en la pérdida de información importante si las columnas eliminadas son relevantes.\n",
    "- No es adecuado si muchas columnas contienen valores faltantes."
   ]
  },
  {
   "cell_type": "code",
   "execution_count": 30,
   "metadata": {},
   "outputs": [
    {
     "name": "stdout",
     "output_type": "stream",
     "text": [
      "MAE (eliminar columnas):\n",
      "0.9784773130392663\n"
     ]
    }
   ],
   "source": [
    "# Selecciono las columnas con valores faltantes en el conjunto de entrenamiento.\n",
    "cols_with_missing = [col for col in X_train.columns if X_train[col].isnull().any()]\n",
    "\n",
    "# Elimino las columnas de los datos de entrenamiento y validación.\n",
    "reduced_X_train = X_train.drop(cols_with_missing, axis=1)\n",
    "reduced_X_valid = X_test.drop(cols_with_missing, axis=1)\n",
    "\n",
    "# Calculo el MAE usando el conjunto de datos con columnas eliminadas.\n",
    "print(\"MAE (eliminar columnas):\")\n",
    "print(score_dataset(reduced_X_train, reduced_X_valid, y_train, y_test))\n"
   ]
  },
  {
   "cell_type": "markdown",
   "metadata": {},
   "source": [
    "# Resumen Preproceso de datos "
   ]
  },
  {
   "cell_type": "code",
   "execution_count": 31,
   "metadata": {},
   "outputs": [
    {
     "name": "stdout",
     "output_type": "stream",
     "text": [
      "MAE (imputación con media):\n",
      "0.9784773130392663\n",
      "MAE (imputación con extensión y media):\n",
      "0.9784773130392663\n",
      "MAE (imputación con extensión y mediana):\n",
      "0.9784773130392663\n",
      "MAE (imputación con extensión y moda):\n",
      "0.9784773130392663\n",
      "MAE (imputación con extensión y valor constante):\n",
      "0.9784773130392663\n",
      "MAE (eliminar columnas):\n",
      "0.9784773130392663\n"
     ]
    }
   ],
   "source": [
    "# Inputacion utilizando la media\n",
    "print(\"MAE (imputación con media):\")\n",
    "print(score_dataset(imputed_X_train, imputed_X_valid, y_train, y_test))\n",
    "\n",
    "# Inputacion con extensión utilizando la media\n",
    "print(\"MAE (imputación con extensión y media):\")\n",
    "print(score_dataset(imputed_X_train, imputed_X_valid, y_train, y_test))\n",
    "\n",
    "# Inputacion con extensión utilizando la mediana \n",
    "print(\"MAE (imputación con extensión y mediana):\")\n",
    "print(score_dataset(imputed_X_train, imputed_X_valid, y_train, y_test))\n",
    "\n",
    "# Imputacion con extension utilizando la moda \n",
    "print(\"MAE (imputación con extensión y moda):\")\n",
    "print(score_dataset(imputed_X_train, imputed_X_valid, y_train, y_test))\n",
    "\n",
    "# Calculo el MAE usando un valor constante\n",
    "print(\"MAE (imputación con extensión y valor constante):\")\n",
    "print(score_dataset(imputed_X_train, imputed_X_valid, y_train, y_test))\n",
    "\n",
    "# Calculo el MAE usando el conjunto de datos con columnas eliminadas.\n",
    "print(\"MAE (eliminar columnas):\")\n",
    "print(score_dataset(reduced_X_train, reduced_X_valid, y_train, y_test))"
   ]
  },
  {
   "cell_type": "markdown",
   "metadata": {},
   "source": [
    "\n",
    "# Técnicas de Transformación de Variables Categóricas\n",
    "\n",
    "Al preparar datos para un modelo de machine learning, es importante transformar las variables categóricas en un formato numérico adecuado. A continuación, se describen tres técnicas comunes para trabajar con variables categóricas.\n",
    "\n",
    "## Eliminación de Variables Categóricas\n",
    "\n",
    "La **eliminación de variables categóricas** consiste en descartar aquellas columnas categóricas que no son necesarias o que pueden introducir ruido en el modelo. Esta técnica es útil cuando ciertas variables categóricas no aportan información significativa o cuando el conjunto de datos tiene demasiadas categorías, lo que complica el proceso de codificación.\n",
    "\n",
    "**Ventajas**:\n",
    "\n",
    "- Sencillo de implementar, ya que solo requiere eliminar columnas.\n",
    "- Reduce la dimensionalidad del conjunto de datos, mejorando la eficiencia.\n",
    "\n",
    "**Desventajas**:\n",
    "\n",
    "- Puede perderse información valiosa si las variables eliminadas son relevantes.\n",
    "- No adecuado si se pierden variables importantes para el modelo."
   ]
  },
  {
   "cell_type": "code",
   "execution_count": 32,
   "metadata": {},
   "outputs": [
    {
     "name": "stdout",
     "output_type": "stream",
     "text": [
      "Precisión del modelo tras eliminar variables categóricas: 1.00\n"
     ]
    }
   ],
   "source": [
    "# Seleccionamos solo las columnas numéricas y eliminamos variables categóricas\n",
    "X_numerico = valoraciones.select_dtypes(exclude=['object'])\n",
    "X_train, X_test, y_train, y_test = train_test_split(X_numerico, y, test_size=0.2, random_state=1)\n",
    "\n",
    "# Entrenamos un modelo de Random Forest usando solo variables numéricas\n",
    "modelo_rf = RandomForestClassifier(random_state=1)\n",
    "modelo_rf.fit(X_train, y_train)\n",
    "\n",
    "# Evaluamos el modelo\n",
    "accuracy = modelo_rf.score(X_test, y_test)\n",
    "print(f'Precisión del modelo tras eliminar variables categóricas: {accuracy:.2f}')\n"
   ]
  },
  {
   "cell_type": "markdown",
   "metadata": {},
   "source": [
    "## Codificación Ordinal (Ordinal Encoding)\n",
    "\n",
    "La **codificación ordinal** asigna un valor numérico a cada categoría en una columna, siguiendo un orden. Este método es adecuado para variables categóricas que tienen un orden inherente, como \"Bajo\", \"Medio\" y \"Alto\". Con este enfoque, se asignan valores enteros a cada nivel de la categoría en orden creciente o decreciente.\n",
    "**Ventajas**:\n",
    "\n",
    "- Mantiene el orden natural de las categorías, lo que es importante para variables ordinales.\n",
    "- Sencillo de implementar y no aumenta la dimensionalidad del conjunto de datos.\n",
    "\n",
    "**Desventajas**:\n",
    "\n",
    "- No es adecuado para variables categóricas sin un orden específico, ya que introduce relaciones numéricas que no existen.\n",
    "- Puede causar problemas si el modelo interpreta los valores numéricos como cantidades en lugar de categorías.\n"
   ]
  },
  {
   "cell_type": "code",
   "execution_count": 34,
   "metadata": {},
   "outputs": [
    {
     "name": "stdout",
     "output_type": "stream",
     "text": [
      "Precisión del modelo con codificación ordinal: 1.00\n"
     ]
    }
   ],
   "source": [
    "from sklearn.preprocessing import OrdinalEncoder\n",
    "from sklearn.model_selection import train_test_split\n",
    "from sklearn.ensemble import RandomForestClassifier\n",
    "\n",
    "# Ajustamos la columna 'helpful' para obtener el número de votos útiles\n",
    "valoraciones['helpful_votes'] = valoraciones['helpful'].apply(lambda x: x[0] if isinstance(x, list) and len(x) > 0 else 0)\n",
    "\n",
    "# Seleccionar columnas numéricas\n",
    "X_numerico = valoraciones.select_dtypes(include=['number']).copy()\n",
    "\n",
    "# Seleccionar solo las columnas de tipo string\n",
    "categoricas = valoraciones.select_dtypes(include=['object']).copy()\n",
    "\n",
    "# Codificamos las columnas categóricas ordinales, asegurándonos de que sean del mismo tipo\n",
    "if not categoricas.empty:\n",
    "    ordinal_encoder = OrdinalEncoder()\n",
    "    categoricas_encoded = pd.DataFrame(ordinal_encoder.fit_transform(categoricas.astype(str)), columns=categoricas.columns)\n",
    "\n",
    "    # Combinamos las columnas numéricas y las codificadas ordinalmente\n",
    "    X_ordinal = pd.concat([X_numerico.reset_index(drop=True), categoricas_encoded.reset_index(drop=True)], axis=1)\n",
    "else:\n",
    "    X_ordinal = X_numerico  # Si no hay columnas categóricas, solo usamos numéricas\n",
    "\n",
    "y = valoraciones['overall']  # La variable objetivo\n",
    "\n",
    "# Dividimos los datos en entrenamiento y prueba\n",
    "X_train, X_test, y_train, y_test = train_test_split(X_ordinal, y, test_size=0.2, random_state=1)\n",
    "\n",
    "# Entrenamos el modelo\n",
    "modelo_rf = RandomForestClassifier(random_state=1)\n",
    "modelo_rf.fit(X_train, y_train)\n",
    "\n",
    "# Evaluamos el modelo\n",
    "accuracy = modelo_rf.score(X_test, y_test)\n",
    "print(f'Precisión del modelo con codificación ordinal: {accuracy:.2f}')\n"
   ]
  },
  {
   "cell_type": "markdown",
   "metadata": {},
   "source": [
    "### Codificación One-Hot (One-Hot Encoding)\n",
    "\n",
    "La **codificación one-hot** convierte cada categoría en una columna binaria, donde se indica la presencia o ausencia de cada categoría con valores de `1` o `0`. Este método es adecuado para variables categóricas sin orden, como \"Rojo\", \"Verde\" y \"Azul\", ya que evita introducir relaciones numéricas entre categorías.\n",
    "\n",
    "**Ventajas**:\n",
    "\n",
    "- Evita introducir relaciones numéricas no deseadas en las variables categóricas sin orden.\n",
    "- Facilita la interpretación del modelo cuando cada categoría tiene su propia columna.\n",
    "\n",
    "**Desventajas**:\n",
    "\n",
    "- Aumenta la dimensionalidad del conjunto de datos, especialmente cuando hay muchas categorías, lo que puede ralentizar el proceso de entrenamiento.\n",
    "- Puede requerir mucho almacenamiento y procesamiento, especialmente para variables con un gran número de categorías.\n"
   ]
  },
  {
   "cell_type": "code",
   "execution_count": 38,
   "metadata": {},
   "outputs": [
    {
     "name": "stdout",
     "output_type": "stream",
     "text": [
      "reviewerID        object\n",
      "asin              object\n",
      "reviewerName      object\n",
      "helpful           object\n",
      "reviewText        object\n",
      "summary           object\n",
      "reviewTime        object\n",
      "instrumentType    object\n",
      "dtype: object\n",
      "Precisión del modelo con codificación One-Hot: 0.92\n"
     ]
    }
   ],
   "source": [
    "from sklearn.preprocessing import OneHotEncoder\n",
    "from sklearn.model_selection import train_test_split\n",
    "from sklearn.ensemble import RandomForestClassifier\n",
    "import pandas as pd\n",
    "\n",
    "# Ajustamos la columna 'helpful' para obtener el número de votos útiles\n",
    "valoraciones['helpful_votes'] = valoraciones['helpful'].apply(lambda x: x[0] if isinstance(x, list) and len(x) > 0 else 0)\n",
    "\n",
    "# Seleccionamos las columnas numéricas\n",
    "X_numerico = valoraciones.select_dtypes(include=['number']).copy()\n",
    "\n",
    "# Seleccionamos solo las columnas de tipo string\n",
    "categoricas = valoraciones.select_dtypes(include=['object']).copy()\n",
    "\n",
    "# Verificamos los tipos de datos en las columnas categóricas\n",
    "print(categoricas.dtypes)\n",
    "\n",
    "# Filtramos columnas que son de tipo string solamente\n",
    "categoricas = categoricas.select_dtypes(include=['object'])\n",
    "\n",
    "# Si hay columnas que deberían ser string pero contienen enteros, convertimos\n",
    "for column in categoricas.columns:\n",
    "    if not all(isinstance(x, str) for x in categoricas[column]):\n",
    "        categoricas[column] = categoricas[column].astype(str)\n",
    "\n",
    "# Inicializamos el codificador One-Hot y aplicamos la codificación\n",
    "one_hot_encoder = OneHotEncoder(sparse_output=False)\n",
    "categoricas_one_hot = one_hot_encoder.fit_transform(categoricas)\n",
    "\n",
    "# Convertimos el resultado en un DataFrame con nombres de columnas\n",
    "categoricas_one_hot_df = pd.DataFrame(categoricas_one_hot, columns=one_hot_encoder.get_feature_names_out(categoricas.columns))\n",
    "\n",
    "# Combinamos las columnas numéricas y las codificadas con One-Hot\n",
    "X_one_hot = pd.concat([X_numerico.reset_index(drop=True), categoricas_one_hot_df.reset_index(drop=True)], axis=1)\n",
    "\n",
    "# La variable objetivo\n",
    "y = valoraciones['overall']  # Asegúrate de que esta columna sea numérica o adecuadamente codificada\n",
    "\n",
    "# Dividimos los datos en entrenamiento y prueba\n",
    "X_train, X_test, y_train, y_test = train_test_split(X_one_hot, y, test_size=0.2, random_state=1)\n",
    "\n",
    "# Entrenamos el modelo\n",
    "modelo_rf = RandomForestClassifier(random_state=1)\n",
    "modelo_rf.fit(X_train, y_train)\n",
    "\n",
    "# Evaluamos el modelo\n",
    "accuracy = modelo_rf.score(X_test, y_test)\n",
    "print(f'Precisión del modelo con codificación One-Hot: {accuracy:.2f}')\n"
   ]
  },
  {
   "cell_type": "markdown",
   "metadata": {},
   "source": [
    "Outliers"
   ]
  },
  {
   "cell_type": "code",
   "execution_count": null,
   "metadata": {},
   "outputs": [],
   "source": []
  },
  {
   "cell_type": "markdown",
   "metadata": {},
   "source": [
    "métodos IQR"
   ]
  },
  {
   "cell_type": "code",
   "execution_count": 39,
   "metadata": {},
   "outputs": [
    {
     "name": "stdout",
     "output_type": "stream",
     "text": [
      "Cantidad de outliers detectados: 955\n"
     ]
    },
    {
     "data": {
      "image/png": "[encoded data removed]",
      "text/plain": [
       "<Figure size 800x600 with 1 Axes>"
      ]
     },
     "metadata": {},
     "output_type": "display_data"
    }
   ],
   "source": [
    "\n",
    "# Calculamos los cuartiles y el rango intercuartílico (IQR)\n",
    "Q1 = valoraciones['overall'].quantile(0.25)\n",
    "Q3 = valoraciones['overall'].quantile(0.75)\n",
    "IQR = Q3 - Q1\n",
    "\n",
    "# Definimos los límites inferior y superior\n",
    "lower_bound = Q1 - 1.5 * IQR\n",
    "upper_bound = Q3 + 1.5 * IQR\n",
    "\n",
    "# Identificamos outliers\n",
    "outliers = valoraciones[(valoraciones['overall'] < lower_bound) | (valoraciones['overall'] > upper_bound)]\n",
    "print(f\"Cantidad de outliers detectados: {len(outliers)}\")\n",
    "\n",
    "# Visualizamos los outliers con un boxplot\n",
    "plt.figure(figsize=(8, 6))\n",
    "plt.boxplot(valoraciones['overall'], vert=False)\n",
    "plt.title('Boxplot de Overall con Outliers')\n",
    "plt.xlabel('Overall')\n",
    "plt.show()\n"
   ]
  },
  {
   "cell_type": "markdown",
   "metadata": {},
   "source": [
    "z-score."
   ]
  },
  {
   "cell_type": "code",
   "execution_count": 40,
   "metadata": {},
   "outputs": [
    {
     "name": "stdout",
     "output_type": "stream",
     "text": [
      "Cantidad de outliers detectados con Z-score: 513\n"
     ]
    },
    {
     "data": {
      "image/png": "[encoded data removed]",
      "text/plain": [
       "<Figure size 800x600 with 1 Axes>"
      ]
     },
     "metadata": {},
     "output_type": "display_data"
    }
   ],
   "source": [
    "from scipy.stats import zscore\n",
    "import numpy as np\n",
    "\n",
    "# Calculamos el Z-score para la columna 'overall'\n",
    "z_scores = zscore(valoraciones['overall'])\n",
    "\n",
    "# Definimos un umbral para considerar un valor como outlier (usualmente 3 o -3)\n",
    "threshold = 3\n",
    "\n",
    "# Identificamos outliers basándonos en el Z-score\n",
    "outliers_z = valoraciones[np.abs(z_scores) > threshold]\n",
    "print(f\"Cantidad de outliers detectados con Z-score: {len(outliers_z)}\")\n",
    "\n",
    "# Visualizamos los datos con y sin outliers\n",
    "plt.figure(figsize=(8, 6))\n",
    "plt.hist(valoraciones['overall'], bins=30, alpha=0.5, label='Datos originales')\n",
    "plt.hist(valoraciones[np.abs(z_scores) <= threshold]['overall'], bins=30, alpha=0.5, label='Datos sin outliers')\n",
    "plt.title('Distribución de Overall antes y después de eliminar outliers')\n",
    "plt.xlabel('Overall')\n",
    "plt.ylabel('Frecuencia')\n",
    "plt.legend()\n",
    "plt.show()\n"
   ]
  },
  {
   "cell_type": "markdown",
   "metadata": {},
   "source": [
    "## discretizacion  "
   ]
  },
  {
   "cell_type": "code",
   "execution_count": 41,
   "metadata": {},
   "outputs": [
    {
     "name": "stdout",
     "output_type": "stream",
     "text": [
      "overall_categoria\n",
      "Positivo    8576\n",
      "Neutro       730\n",
      "Negativo     442\n",
      "Name: count, dtype: int64\n"
     ]
    }
   ],
   "source": [
    "# Definimos los intervalos y etiquetas\n",
    "bins = [0, 2, 3, 5]  # 0-2, 3, 4-5\n",
    "labels = ['Negativo', 'Neutro', 'Positivo']\n",
    "\n",
    "# Discretizamos la variable 'overall'\n",
    "valoraciones['overall_categoria'] = pd.cut(valoraciones['overall'], bins=bins, labels=labels)\n",
    "\n",
    "# Verificamos la distribución de las categorías\n",
    "print(valoraciones['overall_categoria'].value_counts())\n"
   ]
  },
  {
   "cell_type": "markdown",
   "metadata": {},
   "source": [
    "## Impacto en el modelo"
   ]
  },
  {
   "cell_type": "code",
   "execution_count": 42,
   "metadata": {},
   "outputs": [
    {
     "name": "stdout",
     "output_type": "stream",
     "text": [
      "Precisión del modelo tras corrección: 0.84\n",
      "\n",
      "Informe de clasificación:\n",
      "               precision    recall  f1-score   support\n",
      "\n",
      "    Negativo       0.50      0.02      0.04        86\n",
      "      Neutro       0.75      0.02      0.04       154\n",
      "    Positivo       0.84      1.00      0.91      1719\n",
      "         nan       0.00      0.00      0.00        94\n",
      "\n",
      "    accuracy                           0.84      2053\n",
      "   macro avg       0.52      0.26      0.25      2053\n",
      "weighted avg       0.78      0.84      0.77      2053\n",
      "\n"
     ]
    }
   ],
   "source": [
    "import pandas as pd\n",
    "from sklearn.ensemble import RandomForestClassifier\n",
    "from sklearn.model_selection import train_test_split\n",
    "from sklearn.metrics import accuracy_score, classification_report\n",
    "from sklearn.preprocessing import LabelEncoder, OneHotEncoder\n",
    "\n",
    "\n",
    "# Paso 2: Discretizar la variable 'overall' en categorías\n",
    "bins = [0, 2, 3, 5]  # 1-2: Negativo, 3: Neutro, 4-5: Positivo\n",
    "labels = ['Negativo', 'Neutro', 'Positivo']\n",
    "valoraciones['overall_categoria'] = pd.cut(valoraciones['overall'], bins=bins, labels=labels)\n",
    "\n",
    "# Paso 3: Codificar la variable objetivo 'overall_categoria'\n",
    "label_encoder = LabelEncoder()\n",
    "valoraciones['overall_categoria_encoded'] = label_encoder.fit_transform(valoraciones['overall_categoria'])\n",
    "\n",
    "# Paso 4: Preparar las variables predictoras (X) y la variable objetivo (y)\n",
    "X = valoraciones.drop(columns=['overall', 'overall_categoria', 'overall_categoria_encoded', 'reviewText'])\n",
    "y = valoraciones['overall_categoria_encoded']\n",
    "\n",
    "# Verificar y convertir las columnas categóricas a cadenas si es necesario\n",
    "categoricas = X.select_dtypes(include=['object']).columns\n",
    "for col in categoricas:\n",
    "    X[col] = X[col].astype(str)  # Convertimos todas las columnas categóricas a tipo string\n",
    "\n",
    "# Codificar variables categóricas en X\n",
    "one_hot_encoder = OneHotEncoder(sparse_output=False, handle_unknown='ignore')\n",
    "categoricas_encoded = one_hot_encoder.fit_transform(X[categoricas])\n",
    "categoricas_encoded_df = pd.DataFrame(categoricas_encoded, columns=one_hot_encoder.get_feature_names_out(categoricas))\n",
    "\n",
    "# Combinar con las columnas numéricas\n",
    "X_numerico = X.select_dtypes(exclude=['object']).reset_index(drop=True)\n",
    "X_procesado = pd.concat([X_numerico, categoricas_encoded_df], axis=1)\n",
    "\n",
    "# Paso 5: Dividir los datos en conjuntos de entrenamiento y prueba\n",
    "X_train, X_test, y_train, y_test = train_test_split(X_procesado, y, test_size=0.2, random_state=1)\n",
    "\n",
    "# Paso 6: Entrenar el modelo RandomForestClassifier\n",
    "modelo_rf = RandomForestClassifier(random_state=1)\n",
    "modelo_rf.fit(X_train, y_train)\n",
    "\n",
    "# Paso 7: Evaluar el modelo\n",
    "y_pred = modelo_rf.predict(X_test)\n",
    "accuracy = accuracy_score(y_test, y_pred)\n",
    "print(f\"Precisión del modelo tras corrección: {accuracy:.2f}\")\n",
    "\n",
    "# Paso 8: Generar el informe de clasificación\n",
    "target_names = [str(cls) for cls in label_encoder.classes_]  # Aseguramos que todas las clases sean cadenas\n",
    "print(\"\\nInforme de clasificación:\\n\", classification_report(y_test, y_pred, target_names=target_names))\n"
   ]
  },
  {
   "cell_type": "markdown",
   "metadata": {},
   "source": [
    "## Reducción de Dimensionalidad:"
   ]
  },
  {
   "cell_type": "code",
   "execution_count": null,
   "metadata": {},
   "outputs": [],
   "source": [
    "from sklearn.preprocessing import StandardScaler, OneHotEncoder\n",
    " \n",
    "from sklearn.decomposition import PCA\n",
    "# Codificar variables categóricas y transformar datos\n",
    "categoricas = X.select_dtypes(include=['object']).astype(str)\n",
    "X_procesado = pd.concat([\n",
    "    X.select_dtypes(exclude=['object']).reset_index(drop=True),\n",
    "    pd.DataFrame(OneHotEncoder(sparse_output=False, handle_unknown='ignore').fit_transform(categoricas),\n",
    "                 columns=OneHotEncoder(handle_unknown='ignore').fit(categoricas).get_feature_names_out(categoricas.columns))\n",
    "], axis=1)\n",
    "\n",
    "# Estandarizar y reducir dimensionalidad con PCA\n",
    "X_scaled = StandardScaler().fit_transform(X_procesado)\n",
    "X_pca_reducido = PCA(n_components=0.95).fit_transform(X_scaled)\n",
    "\n",
    "# Visualizar la varianza explicada acumulada\n",
    "plt.plot(np.cumsum(PCA(n_components=0.95).fit(X_scaled).explained_variance_ratio_), marker='o', linestyle='--')\n",
    "plt.xlabel('Número de Componentes Principales')\n",
    "plt.ylabel('Varianza Explicada Acumulada')\n",
    "plt.title('Varianza Explicada Acumulada')\n",
    "plt.grid(True)\n",
    "plt.show()\n",
    "\n",
    "# Dividir datos y entrenar modelo\n",
    "X_train_pca, X_test_pca, y_train, y_test = train_test_split(X_pca_reducido, y, test_size=0.2, random_state=1)\n",
    "modelo_rf_pca = RandomForestClassifier(n_estimators=50, random_state=1).fit(X_train_pca, y_train)\n",
    "\n",
    "# Evaluar modelo\n",
    "print(f\"Precisión: {accuracy_score(y_test, modelo_rf_pca.predict(X_test_pca)):.2f}\")"
   ]
  },
  {
   "cell_type": "markdown",
   "metadata": {},
   "source": [
    "## estandarizacion y normalizacion "
   ]
  },
  {
   "cell_type": "code",
   "execution_count": null,
   "metadata": {},
   "outputs": [],
   "source": [
    "from sklearn.preprocessing import Normalizer\n",
    "\n",
    "bins = [0, 2, 3, 5]\n",
    "labels = ['Negativo', 'Neutro', 'Positivo']\n",
    "valoraciones['overall_categoria'] = pd.cut(valoraciones['overall'], bins=bins, labels=labels, include_lowest=True)\n",
    "valoraciones['overall_categoria_encoded'] = LabelEncoder().fit_transform(valoraciones['overall_categoria'])\n",
    "\n",
    "# Preparar variables predictoras (X) y objetivo (y)\n",
    "X = valoraciones.drop(columns=['overall', 'overall_categoria', 'overall_categoria_encoded', 'reviewText'], errors='ignore')\n",
    "y = valoraciones['overall_categoria_encoded']\n",
    "\n",
    "# Codificación de variables categóricas\n",
    "categoricas = X.select_dtypes(include=['object']).columns\n",
    "X[categoricas] = X[categoricas].fillna('missing')\n",
    "\n",
    "X_procesado = pd.concat([\n",
    "    X.select_dtypes(exclude=['object']).reset_index(drop=True),\n",
    "    pd.DataFrame(OneHotEncoder(sparse_output=False, handle_unknown='ignore').fit_transform(X[categoricas]),\n",
    "                 columns=OneHotEncoder(handle_unknown='ignore').fit(X[categoricas]).get_feature_names_out(categoricas))\n",
    "], axis=1)\n",
    "\n",
    "# Función para realizar escalado, PCA y entrenamiento del modelo\n",
    "def entrenar_y_evaluar(escalador, titulo):\n",
    "    X_scaled = escalador.fit_transform(X_procesado)\n",
    "    pca = PCA(n_components=0.95)\n",
    "    X_pca = pca.fit_transform(X_scaled)\n",
    "\n",
    "    # Visualización de varianza explicada\n",
    "    plt.plot(np.cumsum(pca.explained_variance_ratio_), marker='o', linestyle='--')\n",
    "    plt.xlabel('Número de Componentes Principales')\n",
    "    plt.ylabel('Varianza Explicada Acumulada')\n",
    "    plt.title(f'Varianza Explicada Acumulada - {titulo}')\n",
    "    plt.grid(True)\n",
    "    plt.show()\n",
    "\n",
    "    # Dividir datos y entrenar modelo\n",
    "    X_train, X_test, y_train, y_test = train_test_split(X_pca, y, test_size=0.2, random_state=1)\n",
    "    modelo = RandomForestClassifier(n_estimators=50, random_state=1)\n",
    "    modelo.fit(X_train, y_train)\n",
    "    \n",
    "    # Evaluar modelo\n",
    "    y_pred = modelo.predict(X_test)\n",
    "    print(f\"Precisión del modelo con {titulo.lower()}: {accuracy_score(y_test, y_pred):.2f}\")\n",
    "\n",
    "# Entrenar y evaluar con estandarización y normalización\n",
    "entrenar_y_evaluar(StandardScaler(), \"Estandarización\")\n",
    "entrenar_y_evaluar(Normalizer(), \"Normalización\")"
   ]
  },
  {
   "cell_type": "markdown",
   "metadata": {},
   "source": []
  },
  {
   "cell_type": "code",
   "execution_count": null,
   "metadata": {},
   "outputs": [],
   "source": [
    "import nltk\n",
    "nltk.download('punkt')  # Descarga el modelo de tokenización\n",
    "from nltk.tokenize import word_tokenize\n",
    "\n",
    "# 'reviewText' es la columna a tokenizar.\n",
    "valoraciones['tokens'] = valoraciones['reviewText'].apply(word_tokenize)\n",
    "\n",
    "# Mostrar algunos ejemplos de tokenización\n",
    "print(valoraciones[['reviewText', 'tokens']].head())\n"
   ]
  }
 ],
 "metadata": {
  "kernelspec": {
   "display_name": "TODO",
   "language": "python",
   "name": "python3"
  },
  "language_info": {
   "codemirror_mode": {
    "name": "ipython",
    "version": 3
   },
   "file_extension": ".py",
   "mimetype": "text/x-python",
   "name": "python",
   "nbconvert_exporter": "python",
   "pygments_lexer": "ipython3",
   "version": "3.12.7"
  }
 },
 "nbformat": 4,
 "nbformat_minor": 2
}
